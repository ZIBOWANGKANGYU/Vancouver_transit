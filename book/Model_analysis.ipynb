{
 "cells": [
  {
   "cell_type": "markdown",
   "metadata": {},
   "source": [
    "# Model Analyses and Interpretation\n",
    "\n",
    "So far, I have trained two machined learning models to explain the impact of access to transit on the proportion of residents using public transportation, down to the DA level. I also tuned their hyperparameters using cross validation. They have both achieved cross-validation $R^2$ at about 0.67. \n",
    "\n",
    "However, there is still a big distance between our models and actionable real-world solutions. At the end of the day, we want to know where the transit authority of Greater Vancouver Area should put resource to develop new infrastructure. "
   ]
  },
  {
   "cell_type": "code",
   "execution_count": 14,
   "metadata": {
    "tags": [
     "hide-cell"
    ]
   },
   "outputs": [],
   "source": [
    "import geopandas\n",
    "import json\n",
    "import joblib\n",
    "import os\n",
    "import pandas as pd"
   ]
  },
  {
   "cell_type": "code",
   "execution_count": 26,
   "metadata": {
    "tags": [
     "hide-cell"
    ]
   },
   "outputs": [],
   "source": [
    "# sklearn modules\n",
    "from sklearn.compose import ColumnTransformer\n",
    "from sklearn.ensemble import RandomForestRegressor\n",
    "from sklearn.impute import SimpleImputer\n",
    "from sklearn.linear_model import Lasso\n",
    "from sklearn.pipeline import Pipeline\n",
    "from sklearn.preprocessing import (\n",
    "    OneHotEncoder,\n",
    "    OrdinalEncoder,\n",
    "    StandardScaler,\n",
    "    MinMaxScaler,\n",
    ")"
   ]
  },
  {
   "cell_type": "code",
   "execution_count": 77,
   "metadata": {},
   "outputs": [],
   "source": [
    "# Mapping modules\n",
    "import contextily as ctx\n",
    "import matplotlib.pyplot as plt\n",
    "\n",
    "GVA_map_xlim_lower = -13746072.435927173\n",
    "GVA_map_xlim_higher = -13630000\n",
    "GVA_map_ylim_lower = 6270302.809935683\n",
    "GVA_map_ylim_higher = 6345000"
   ]
  },
  {
   "cell_type": "code",
   "execution_count": 16,
   "metadata": {
    "tags": [
     "hide-cell"
    ]
   },
   "outputs": [],
   "source": [
    "# Re-define working directory\n",
    "data_version = \"20200606\"\n",
    "cwd = os.path.dirname(os.getcwd())\n",
    "cwd = os.path.dirname(os.getcwd())\n",
    "os.chdir(cwd)\n",
    "data_dir = os.path.join(os.getcwd(), \"TL_data\", data_version)"
   ]
  },
  {
   "cell_type": "code",
   "execution_count": 23,
   "metadata": {
    "tags": [
     "hide-cell"
    ]
   },
   "outputs": [],
   "source": [
    "## Data\n",
    "X_train = geopandas.read_file(\n",
    "    os.path.join(os.getcwd(), \"Data_Tables\", data_version, \"X_train.json\")\n",
    ")"
   ]
  },
  {
   "cell_type": "code",
   "execution_count": 38,
   "metadata": {
    "tags": [
     "hide-cell"
    ]
   },
   "outputs": [],
   "source": [
    "with open(os.path.join(os.getcwd(), \"Data_Tables\", data_version, \"X_header.json\"), \"r\") as X_header_outfile:\n",
    "    X_header = json.load(X_header_outfile)\n",
    "    \n",
    "with open(os.path.join(os.getcwd(), \"Data_Tables\", data_version, \"y_train.json\"), \"r\") as y_train_outfile:\n",
    "    y_train = json.load(y_train_outfile)\n",
    "y_train = pd.read_json(y_train, typ=\"series\")"
   ]
  },
  {
   "cell_type": "code",
   "execution_count": 18,
   "metadata": {
    "tags": [
     "hide-cell"
    ]
   },
   "outputs": [],
   "source": [
    "# Read data and models\n",
    "\n",
    "## Trained models\n",
    "random_search_rf = joblib.load(os.path.join(\n",
    "        os.getcwd(),\n",
    "        \"Models\",\n",
    "        data_version,\n",
    "        \"random_search_rf.joblib\",\n",
    "    ))\n",
    "random_search_LASSO = joblib.load(os.path.join(\n",
    "        os.getcwd(),\n",
    "        \"Models\",\n",
    "        data_version,\n",
    "        \"random_search_LASSO.joblib\",\n",
    "    ))"
   ]
  },
  {
   "cell_type": "code",
   "execution_count": 52,
   "metadata": {
    "scrolled": true,
    "tags": [
     "hide-cell"
    ]
   },
   "outputs": [],
   "source": [
    "## Pre-processor \n",
    "categorical_transformer, numeric_transformer, proportion_transformer, ColumnTransformer = joblib.load(\n",
    "    os.path.join(os.getcwd(), \"Models\", data_version, \"preprocessor.joblib\")\n",
    ")\n",
    "\n",
    "\n",
    "## Variable types\n",
    "with open(\n",
    "    os.path.join(os.getcwd(), \"Models\", data_version, \"features.json\"),\n",
    "    \"r\",\n",
    ") as feature_outfile:\n",
    "    categorical_features, numeric_features, proportion_features, geometry_feature = json.load(feature_outfile)\n",
    "\n",
    "## LASSO model\n",
    "pipe_LASSO = Pipeline(\n",
    "    steps=[\n",
    "        (\"preprocessor\", preprocessor),\n",
    "        (\"LASSO_reg\", Lasso()),\n",
    "    ]\n",
    ")\n",
    "## Random Forest model\n",
    "pipe_rf = Pipeline(\n",
    "    steps=[\n",
    "        (\"preprocessor\", preprocessor),\n",
    "        (\"rf_reg\", RandomForestRegressor()),\n",
    "    ]\n",
    ")"
   ]
  },
  {
   "cell_type": "code",
   "execution_count": 59,
   "metadata": {
    "tags": [
     "hide-cell"
    ]
   },
   "outputs": [
    {
     "name": "stdout",
     "output_type": "stream",
     "text": [
      "\n",
      "\n",
      "transformer:  cat\n",
      "\n",
      "\n",
      "transformer:  num\n",
      "\n",
      "\n",
      "transformer:  prop\n"
     ]
    }
   ],
   "source": [
    "## Get input feature names\n",
    "def get_column_names_from_ColumnTransformer(column_transformer):\n",
    "\n",
    "    col_name = []\n",
    "\n",
    "    for transformer_in_columns in column_transformer.transformers_[\n",
    "        :-1\n",
    "    ]:  # the last transformer is ColumnTransformer's 'remainder'\n",
    "        print(\"\\n\\ntransformer: \", transformer_in_columns[0])\n",
    "\n",
    "        raw_col_name = list(transformer_in_columns[2])\n",
    "\n",
    "        if isinstance(transformer_in_columns[1], Pipeline):\n",
    "            # if pipeline, get the last transformer\n",
    "            transformer = transformer_in_columns[1].steps[-1][1]\n",
    "        else:\n",
    "            transformer = transformer_in_columns[1]\n",
    "\n",
    "        try:\n",
    "            if isinstance(transformer, OneHotEncoder):\n",
    "                names = list(transformer.get_feature_names(raw_col_name))\n",
    "\n",
    "            elif isinstance(transformer, SimpleImputer) and transformer.add_indicator:\n",
    "                missing_indicator_indices = transformer.indicator_.features_\n",
    "                missing_indicators = [\n",
    "                    raw_col_name[idx] + \"_missing_flag\"\n",
    "                    for idx in missing_indicator_indices\n",
    "                ]\n",
    "\n",
    "                names = raw_col_name + missing_indicators\n",
    "\n",
    "            else:\n",
    "                names = list(transformer.get_feature_names())\n",
    "\n",
    "        except AttributeError as error:\n",
    "            names = raw_col_name\n",
    "\n",
    "        col_name.extend(names)\n",
    "\n",
    "    return col_name\n",
    "\n",
    "\n",
    "preprocessor.fit(X_train)\n",
    "feature_names = get_column_names_from_ColumnTransformer(preprocessor)\n",
    "\n",
    "categorical_feature_names = list(categorical_transformer[\"onehot\"].get_feature_names(categorical_features))\n",
    "numeric_feature_names = numeric_features\n",
    "proportion_feature_names = proportion_features"
   ]
  },
  {
   "cell_type": "markdown",
   "metadata": {},
   "source": [
    "## Feature Importance\n",
    "Both LASSO and Random Forest models give easy access to measurements of global feature importances. \n",
    "For LASSO model, I use the magnificance of coefficients to roughly estimate each variable's importance. \n",
    "For Random Forest model, I use the [impurity measurement](https://scikit-learn.org/stable/modules/generated/sklearn.ensemble.RandomForestClassifier.html#sklearn.ensemble.RandomForestClassifier.feature_importances_) of each variable's importance. \n",
    "\n",
    "In addition, the three types of input variables, namely `categorical_features`, `numeric_features`, and `proportion_features` are scaled differently in the `preprocessing` step. Therefore, I will review the important variables for all three categories separately. "
   ]
  },
  {
   "cell_type": "code",
   "execution_count": 32,
   "metadata": {
    "tags": [
     "hide-cell"
    ]
   },
   "outputs": [],
   "source": [
    "### LASSO Model\n",
    "LASSO_coeffs = random_search_LASSO.best_estimator_[\"LASSO_reg\"].coef_\n",
    "\n",
    "LASSO_feature_coeffs = pd.DataFrame({\"feature\": feature_names, \"coeffs\": LASSO_coeffs})"
   ]
  },
  {
   "cell_type": "markdown",
   "metadata": {},
   "source": [
    "### LASSO Model\n",
    "The table below shows the five categorical features that mostly strongly predict proportion of transit use among residents. They are ADA or CCS areas. "
   ]
  },
  {
   "cell_type": "code",
   "execution_count": 67,
   "metadata": {
    "tags": [
     "\"hide-input\""
    ]
   },
   "outputs": [
    {
     "data": {
      "text/html": [
       "<div>\n",
       "<style scoped>\n",
       "    .dataframe tbody tr th:only-of-type {\n",
       "        vertical-align: middle;\n",
       "    }\n",
       "\n",
       "    .dataframe tbody tr th {\n",
       "        vertical-align: top;\n",
       "    }\n",
       "\n",
       "    .dataframe thead th {\n",
       "        text-align: right;\n",
       "    }\n",
       "</style>\n",
       "<table border=\"1\" class=\"dataframe\">\n",
       "  <thead>\n",
       "    <tr style=\"text-align: right;\">\n",
       "      <th></th>\n",
       "      <th>feature</th>\n",
       "      <th>coeffs</th>\n",
       "    </tr>\n",
       "  </thead>\n",
       "  <tbody>\n",
       "    <tr>\n",
       "      <th>148</th>\n",
       "      <td>ADAUID_59150117</td>\n",
       "      <td>0.097663</td>\n",
       "    </tr>\n",
       "    <tr>\n",
       "      <th>7</th>\n",
       "      <td>CCSUID_5915022</td>\n",
       "      <td>0.069961</td>\n",
       "    </tr>\n",
       "    <tr>\n",
       "      <th>8</th>\n",
       "      <td>CCSUID_5915025</td>\n",
       "      <td>0.065468</td>\n",
       "    </tr>\n",
       "    <tr>\n",
       "      <th>138</th>\n",
       "      <td>ADAUID_59150107</td>\n",
       "      <td>0.053888</td>\n",
       "    </tr>\n",
       "    <tr>\n",
       "      <th>114</th>\n",
       "      <td>ADAUID_59150082</td>\n",
       "      <td>0.048754</td>\n",
       "    </tr>\n",
       "  </tbody>\n",
       "</table>\n",
       "</div>"
      ],
      "text/plain": [
       "             feature    coeffs\n",
       "148  ADAUID_59150117  0.097663\n",
       "7     CCSUID_5915022  0.069961\n",
       "8     CCSUID_5915025  0.065468\n",
       "138  ADAUID_59150107  0.053888\n",
       "114  ADAUID_59150082  0.048754"
      ]
     },
     "execution_count": 67,
     "metadata": {},
     "output_type": "execute_result"
    }
   ],
   "source": [
    "#### Categorical features\n",
    "LASSO_categorical_feature_coeffs = LASSO_feature_coeffs.loc[LASSO_feature_coeffs[\"feature\"].isin(categorical_feature_names), :]\n",
    "LASSO_categorical_feature_coeffs.sort_values(\"coeffs\", ascending = False).head(5)"
   ]
  },
  {
   "cell_type": "code",
   "execution_count": null,
   "metadata": {},
   "outputs": [],
   "source": [
    "X_train_LASSO_top_categorical_mask = ((X_train.ADAUID == \"59150117\") \n",
    "                                      | (X_train.CCSUID == \"5915022\") \n",
    "                                      | (X_train.CCSUID == \"5915025\") \n",
    "                                      | (X_train.ADAUID == \"59150107\") \n",
    "                                      | (X_train.ADAUID == \"59150082\"))\n",
    "\n",
    "X_train_LASSO_top_categorical = X_train.loc[X_train_LASSO_top_categorical_mask, :]\n",
    "\n",
    "LASSO_top_categorical_ax = X_train_LASSO_top_categorical.plot(\n",
    "    figsize=(20, 20),\n",
    "    alpha=0.5,\n",
    ")\n",
    "LASSO_top_categorical_ax.set_xlim(GVA_map_xlim_lower, GVA_map_xlim_higher)\n",
    "LASSO_top_categorical_ax.set_ylim(GVA_map_ylim_lower, GVA_map_ylim_higher)\n",
    "\n",
    "ctx.add_basemap(LASSO_top_categorical_ax, zoom=12)\n",
    "plt.title(\"Removed DAs\", fontsize=30)"
   ]
  },
  {
   "cell_type": "code",
   "execution_count": null,
   "metadata": {},
   "outputs": [],
   "source": [
    "plt.savefig(\n",
    "    os.path.join(\n",
    "        os.getcwd(),\n",
    "        \"Vancouver_transit\",\n",
    "        \"Maps\",\n",
    "        data_version,\n",
    "        \"DA_removed.png\",\n",
    "    )\n",
    ")"
   ]
  },
  {
   "cell_type": "code",
   "execution_count": 74,
   "metadata": {},
   "outputs": [
    {
     "data": {
      "text/plain": [
       "0       False\n",
       "1       False\n",
       "2        True\n",
       "3       False\n",
       "4       False\n",
       "        ...  \n",
       "2539    False\n",
       "2540     True\n",
       "2541     True\n",
       "2542     True\n",
       "2543    False\n",
       "Length: 2544, dtype: bool"
      ]
     },
     "execution_count": 74,
     "metadata": {},
     "output_type": "execute_result"
    }
   ],
   "source": [
    "(X_train.ADAUID == \"59150117\") | (X_train.CCSUID == \"5915022\") | (X_train.CCSUID == \"5915025\") | (X_train.ADAUID == \"59150107\") | (X_train.ADAUID == \"59150082\") "
   ]
  },
  {
   "cell_type": "code",
   "execution_count": 68,
   "metadata": {},
   "outputs": [
    {
     "data": {
      "text/html": [
       "<div>\n",
       "<style scoped>\n",
       "    .dataframe tbody tr th:only-of-type {\n",
       "        vertical-align: middle;\n",
       "    }\n",
       "\n",
       "    .dataframe tbody tr th {\n",
       "        vertical-align: top;\n",
       "    }\n",
       "\n",
       "    .dataframe thead th {\n",
       "        text-align: right;\n",
       "    }\n",
       "</style>\n",
       "<table border=\"1\" class=\"dataframe\">\n",
       "  <thead>\n",
       "    <tr style=\"text-align: right;\">\n",
       "      <th></th>\n",
       "      <th>feature</th>\n",
       "      <th>coeffs</th>\n",
       "    </tr>\n",
       "  </thead>\n",
       "  <tbody>\n",
       "    <tr>\n",
       "      <th>70</th>\n",
       "      <td>ADAUID_59150035</td>\n",
       "      <td>-0.119335</td>\n",
       "    </tr>\n",
       "    <tr>\n",
       "      <th>74</th>\n",
       "      <td>ADAUID_59150040</td>\n",
       "      <td>-0.092524</td>\n",
       "    </tr>\n",
       "    <tr>\n",
       "      <th>76</th>\n",
       "      <td>ADAUID_59150042</td>\n",
       "      <td>-0.071774</td>\n",
       "    </tr>\n",
       "    <tr>\n",
       "      <th>69</th>\n",
       "      <td>ADAUID_59150034</td>\n",
       "      <td>-0.060664</td>\n",
       "    </tr>\n",
       "    <tr>\n",
       "      <th>313</th>\n",
       "      <td>ADAUID_59150312</td>\n",
       "      <td>-0.056735</td>\n",
       "    </tr>\n",
       "  </tbody>\n",
       "</table>\n",
       "</div>"
      ],
      "text/plain": [
       "             feature    coeffs\n",
       "70   ADAUID_59150035 -0.119335\n",
       "74   ADAUID_59150040 -0.092524\n",
       "76   ADAUID_59150042 -0.071774\n",
       "69   ADAUID_59150034 -0.060664\n",
       "313  ADAUID_59150312 -0.056735"
      ]
     },
     "execution_count": 68,
     "metadata": {},
     "output_type": "execute_result"
    }
   ],
   "source": [
    "LASSO_categorical_feature_coeffs.sort_values(\"coeffs\").head(5)"
   ]
  },
  {
   "cell_type": "code",
   "execution_count": 49,
   "metadata": {},
   "outputs": [
    {
     "data": {
      "text/plain": [
       "0       False\n",
       "1        True\n",
       "2        True\n",
       "3        True\n",
       "4        True\n",
       "        ...  \n",
       "1367    False\n",
       "1368    False\n",
       "1369    False\n",
       "1370    False\n",
       "1371    False\n",
       "Name: feature, Length: 1372, dtype: bool"
      ]
     },
     "execution_count": 49,
     "metadata": {},
     "output_type": "execute_result"
    }
   ],
   "source": [
    "LASSO_feature_coeffs[\"feature\"].str.startswith(\"C\")"
   ]
  },
  {
   "cell_type": "code",
   "execution_count": 40,
   "metadata": {},
   "outputs": [
    {
     "data": {
      "text/plain": [
       "['PRUID', 'CDUID', 'CCSUID', 'CSDUID', 'ERUID', 'CMAUID', 'CMAPUID', 'ADAUID']"
      ]
     },
     "execution_count": 40,
     "metadata": {},
     "output_type": "execute_result"
    }
   ],
   "source": [
    "categorical_features"
   ]
  },
  {
   "cell_type": "code",
   "execution_count": 30,
   "metadata": {
    "tags": [
     "hide-cell"
    ]
   },
   "outputs": [],
   "source": [
    "# Analyze random forest model\n",
    "\n",
    "## Variable importance\n",
    "rf_immpurity_feat_imp = random_search_rf.best_estimator_[\"rf_reg\"].feature_importances_\n",
    "\n",
    "rf_immpurity_feat_imp_coeffs = pd.DataFrame(\n",
    "    {\"feature\": feature_names, \"impurity_importance\": rf_immpurity_feat_imp}\n",
    ")"
   ]
  },
  {
   "cell_type": "code",
   "execution_count": 31,
   "metadata": {},
   "outputs": [
    {
     "data": {
      "text/html": [
       "<div>\n",
       "<style scoped>\n",
       "    .dataframe tbody tr th:only-of-type {\n",
       "        vertical-align: middle;\n",
       "    }\n",
       "\n",
       "    .dataframe tbody tr th {\n",
       "        vertical-align: top;\n",
       "    }\n",
       "\n",
       "    .dataframe thead th {\n",
       "        text-align: right;\n",
       "    }\n",
       "</style>\n",
       "<table border=\"1\" class=\"dataframe\">\n",
       "  <thead>\n",
       "    <tr style=\"text-align: right;\">\n",
       "      <th></th>\n",
       "      <th>feature</th>\n",
       "      <th>impurity_importance</th>\n",
       "    </tr>\n",
       "  </thead>\n",
       "  <tbody>\n",
       "    <tr>\n",
       "      <th>0</th>\n",
       "      <td>PRUID_59</td>\n",
       "      <td>0.000000</td>\n",
       "    </tr>\n",
       "    <tr>\n",
       "      <th>1</th>\n",
       "      <td>CDUID_5915</td>\n",
       "      <td>0.000000</td>\n",
       "    </tr>\n",
       "    <tr>\n",
       "      <th>2</th>\n",
       "      <td>CCSUID_5915001</td>\n",
       "      <td>0.004445</td>\n",
       "    </tr>\n",
       "    <tr>\n",
       "      <th>3</th>\n",
       "      <td>CCSUID_5915004</td>\n",
       "      <td>0.000198</td>\n",
       "    </tr>\n",
       "    <tr>\n",
       "      <th>4</th>\n",
       "      <td>CCSUID_5915011</td>\n",
       "      <td>0.000015</td>\n",
       "    </tr>\n",
       "    <tr>\n",
       "      <th>...</th>\n",
       "      <td>...</td>\n",
       "      <td>...</td>\n",
       "    </tr>\n",
       "    <tr>\n",
       "      <th>1367</th>\n",
       "      <td>vn473_immediate_vn471</td>\n",
       "      <td>0.000950</td>\n",
       "    </tr>\n",
       "    <tr>\n",
       "      <th>1368</th>\n",
       "      <td>vn474_immediate_vn473</td>\n",
       "      <td>0.000481</td>\n",
       "    </tr>\n",
       "    <tr>\n",
       "      <th>1369</th>\n",
       "      <td>vn475_immediate_vn474</td>\n",
       "      <td>0.000727</td>\n",
       "    </tr>\n",
       "    <tr>\n",
       "      <th>1370</th>\n",
       "      <td>vn476_immediate_vn474</td>\n",
       "      <td>0.000560</td>\n",
       "    </tr>\n",
       "    <tr>\n",
       "      <th>1371</th>\n",
       "      <td>vn477_immediate_vn473</td>\n",
       "      <td>0.000508</td>\n",
       "    </tr>\n",
       "  </tbody>\n",
       "</table>\n",
       "<p>1372 rows × 2 columns</p>\n",
       "</div>"
      ],
      "text/plain": [
       "                    feature  impurity_importance\n",
       "0                  PRUID_59             0.000000\n",
       "1                CDUID_5915             0.000000\n",
       "2            CCSUID_5915001             0.004445\n",
       "3            CCSUID_5915004             0.000198\n",
       "4            CCSUID_5915011             0.000015\n",
       "...                     ...                  ...\n",
       "1367  vn473_immediate_vn471             0.000950\n",
       "1368  vn474_immediate_vn473             0.000481\n",
       "1369  vn475_immediate_vn474             0.000727\n",
       "1370  vn476_immediate_vn474             0.000560\n",
       "1371  vn477_immediate_vn473             0.000508\n",
       "\n",
       "[1372 rows x 2 columns]"
      ]
     },
     "execution_count": 31,
     "metadata": {},
     "output_type": "execute_result"
    }
   ],
   "source": [
    "rf_immpurity_feat_imp_coeffs"
   ]
  },
  {
   "cell_type": "code",
   "execution_count": null,
   "metadata": {},
   "outputs": [],
   "source": [
    "## How I built the two models\n",
    "\n",
    "As it is markdown, you can embed images, HTML, etc into your posts!\n",
    "\n",
    "![](https://myst-parser.readthedocs.io/en/latest/_static/logo.png)\n",
    "\n",
    "You an also $add_{math}$ and\n",
    "\n",
    "$$\n",
    "math^{blocks}\n",
    "$$\n",
    "\n",
    "or\n",
    "\n",
    "$$\n",
    "\\begin{aligned}\n",
    "\\mbox{mean} la_{tex} \\\\ \\\\\n",
    "math blocks\n",
    "\\end{aligned}\n",
    "$$\n",
    "\n",
    "But make sure you \\$Escape \\$your \\$dollar signs \\$you want to keep!\n",
    "\n",
    "## MyST markdown\n",
    "\n",
    "MyST markdown works in Jupyter Notebooks as well. For more information about MyST markdown, check\n",
    "out [the MyST guide in Jupyter Book](https://jupyterbook.org/content/myst.html),\n",
    "or see [the MyST markdown documentation](https://myst-parser.readthedocs.io/en/latest/).\n",
    "\n",
    "## Code blocks and outputs\n",
    "\n",
    "Jupyter Book will also embed your code blocks and output in your book.\n",
    "For example, here's some sample Matplotlib code:"
   ]
  },
  {
   "cell_type": "code",
   "execution_count": 1,
   "metadata": {},
   "outputs": [],
   "source": [
    "from matplotlib import rcParams, cycler\n",
    "import matplotlib.pyplot as plt\n",
    "import numpy as np\n",
    "\n",
    "plt.ion()"
   ]
  },
  {
   "cell_type": "code",
   "execution_count": null,
   "metadata": {},
   "outputs": [],
   "source": [
    "# Fixing random state for reproducibility\n",
    "np.random.seed(19680801)\n",
    "\n",
    "N = 10\n",
    "data = [np.logspace(0, 1, 100) + np.random.randn(100) + ii for ii in range(N)]\n",
    "data = np.array(data).T\n",
    "cmap = plt.cm.coolwarm\n",
    "rcParams['axes.prop_cycle'] = cycler(color=cmap(np.linspace(0, 1, N)))\n",
    "\n",
    "\n",
    "from matplotlib.lines import Line2D\n",
    "custom_lines = [Line2D([0], [0], color=cmap(0.), lw=4),\n",
    "                Line2D([0], [0], color=cmap(.5), lw=4),\n",
    "                Line2D([0], [0], color=cmap(1.), lw=4)]\n",
    "\n",
    "fig, ax = plt.subplots(figsize=(10, 5))\n",
    "lines = ax.plot(data)\n",
    "ax.legend(custom_lines, ['Cold', 'Medium', 'Hot']);"
   ]
  },
  {
   "cell_type": "markdown",
   "metadata": {},
   "source": [
    "There is a lot more that you can do with outputs (such as including interactive outputs)\n",
    "with your book. For more information about this, see [the Jupyter Book documentation](https://jupyterbook.org)"
   ]
  }
 ],
 "metadata": {
  "celltoolbar": "Tags",
  "kernelspec": {
   "display_name": "Python 3",
   "language": "python",
   "name": "python3"
  },
  "language_info": {
   "codemirror_mode": {
    "name": "ipython",
    "version": 3
   },
   "file_extension": ".py",
   "mimetype": "text/x-python",
   "name": "python",
   "nbconvert_exporter": "python",
   "pygments_lexer": "ipython3",
   "version": "3.8.3"
  },
  "widgets": {
   "application/vnd.jupyter.widget-state+json": {
    "state": {},
    "version_major": 2,
    "version_minor": 0
   }
  }
 },
 "nbformat": 4,
 "nbformat_minor": 4
}
